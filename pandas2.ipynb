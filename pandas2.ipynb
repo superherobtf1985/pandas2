{
  "nbformat": 4,
  "nbformat_minor": 0,
  "metadata": {
    "colab": {
      "name": "pandas2.ipynb",
      "provenance": [],
      "toc_visible": true,
      "authorship_tag": "ABX9TyOuNgY0rRjxeBzC/TMdkPbX",
      "include_colab_link": true
    },
    "kernelspec": {
      "name": "python3",
      "display_name": "Python 3"
    }
  },
  "cells": [
    {
      "cell_type": "markdown",
      "metadata": {
        "id": "view-in-github",
        "colab_type": "text"
      },
      "source": [
        "<a href=\"https://colab.research.google.com/github/superherobtf1985/pandas2/blob/master/pandas2.ipynb\" target=\"_parent\"><img src=\"https://colab.research.google.com/assets/colab-badge.svg\" alt=\"Open In Colab\"/></a>"
      ]
    },
    {
      "cell_type": "markdown",
      "metadata": {
        "id": "gPejAFz4JG5m",
        "colab_type": "text"
      },
      "source": [
        "# pandasの基本2"
      ]
    },
    {
      "cell_type": "code",
      "metadata": {
        "id": "61KxsGvJWOrg",
        "colab_type": "code",
        "colab": {}
      },
      "source": [
        "import pandas as pd"
      ],
      "execution_count": 0,
      "outputs": []
    },
    {
      "cell_type": "code",
      "metadata": {
        "id": "MpFIcl6yX32J",
        "colab_type": "code",
        "outputId": "fadbe0e0-2ea1-4424-983c-b62f14247fda",
        "colab": {
          "base_uri": "https://localhost:8080/",
          "height": 235
        }
      },
      "source": [
        "game_df = pd.read_csv(\"game1.csv\")\n",
        "game_df"
      ],
      "execution_count": 2,
      "outputs": [
        {
          "output_type": "execute_result",
          "data": {
            "text/html": [
              "<div>\n",
              "<style scoped>\n",
              "    .dataframe tbody tr th:only-of-type {\n",
              "        vertical-align: middle;\n",
              "    }\n",
              "\n",
              "    .dataframe tbody tr th {\n",
              "        vertical-align: top;\n",
              "    }\n",
              "\n",
              "    .dataframe thead th {\n",
              "        text-align: right;\n",
              "    }\n",
              "</style>\n",
              "<table border=\"1\" class=\"dataframe\">\n",
              "  <thead>\n",
              "    <tr style=\"text-align: right;\">\n",
              "      <th></th>\n",
              "      <th>user_id</th>\n",
              "      <th>game_genre</th>\n",
              "      <th>age</th>\n",
              "      <th>playing_time(days)</th>\n",
              "      <th>cellphone</th>\n",
              "    </tr>\n",
              "  </thead>\n",
              "  <tbody>\n",
              "    <tr>\n",
              "      <th>0</th>\n",
              "      <td>1</td>\n",
              "      <td>puzzle</td>\n",
              "      <td>17.0</td>\n",
              "      <td>98</td>\n",
              "      <td>iOS</td>\n",
              "    </tr>\n",
              "    <tr>\n",
              "      <th>1</th>\n",
              "      <td>2</td>\n",
              "      <td>shooting</td>\n",
              "      <td>34.0</td>\n",
              "      <td>35</td>\n",
              "      <td>iOS</td>\n",
              "    </tr>\n",
              "    <tr>\n",
              "      <th>2</th>\n",
              "      <td>3</td>\n",
              "      <td>puzzle</td>\n",
              "      <td>23.0</td>\n",
              "      <td>267</td>\n",
              "      <td>Android</td>\n",
              "    </tr>\n",
              "    <tr>\n",
              "      <th>3</th>\n",
              "      <td>4</td>\n",
              "      <td>puzzle</td>\n",
              "      <td>NaN</td>\n",
              "      <td>45</td>\n",
              "      <td>iOS</td>\n",
              "    </tr>\n",
              "    <tr>\n",
              "      <th>4</th>\n",
              "      <td>5</td>\n",
              "      <td>shooting</td>\n",
              "      <td>14.0</td>\n",
              "      <td>90</td>\n",
              "      <td>iOS</td>\n",
              "    </tr>\n",
              "    <tr>\n",
              "      <th>5</th>\n",
              "      <td>6</td>\n",
              "      <td>racing</td>\n",
              "      <td>NaN</td>\n",
              "      <td>16</td>\n",
              "      <td>Android</td>\n",
              "    </tr>\n",
              "  </tbody>\n",
              "</table>\n",
              "</div>"
            ],
            "text/plain": [
              "   user_id game_genre   age  playing_time(days) cellphone\n",
              "0        1     puzzle  17.0                  98       iOS\n",
              "1        2   shooting  34.0                  35       iOS\n",
              "2        3     puzzle  23.0                 267   Android\n",
              "3        4     puzzle   NaN                  45       iOS\n",
              "4        5   shooting  14.0                  90       iOS\n",
              "5        6     racing   NaN                  16   Android"
            ]
          },
          "metadata": {
            "tags": []
          },
          "execution_count": 2
        }
      ]
    },
    {
      "cell_type": "markdown",
      "metadata": {
        "id": "rx7yKyrSYNM-",
        "colab_type": "text"
      },
      "source": [
        "cellphoneカラムをdevice_typeに変更する"
      ]
    },
    {
      "cell_type": "code",
      "metadata": {
        "id": "eT0poGhWYRf0",
        "colab_type": "code",
        "outputId": "8bcf22d9-770a-4f56-8b96-727f78102efb",
        "colab": {
          "base_uri": "https://localhost:8080/",
          "height": 235
        }
      },
      "source": [
        "game_df = game_df.rename(columns={\"cellphone\": \"device_type\"})\n",
        "game_df"
      ],
      "execution_count": 3,
      "outputs": [
        {
          "output_type": "execute_result",
          "data": {
            "text/html": [
              "<div>\n",
              "<style scoped>\n",
              "    .dataframe tbody tr th:only-of-type {\n",
              "        vertical-align: middle;\n",
              "    }\n",
              "\n",
              "    .dataframe tbody tr th {\n",
              "        vertical-align: top;\n",
              "    }\n",
              "\n",
              "    .dataframe thead th {\n",
              "        text-align: right;\n",
              "    }\n",
              "</style>\n",
              "<table border=\"1\" class=\"dataframe\">\n",
              "  <thead>\n",
              "    <tr style=\"text-align: right;\">\n",
              "      <th></th>\n",
              "      <th>user_id</th>\n",
              "      <th>game_genre</th>\n",
              "      <th>age</th>\n",
              "      <th>playing_time(days)</th>\n",
              "      <th>device_type</th>\n",
              "    </tr>\n",
              "  </thead>\n",
              "  <tbody>\n",
              "    <tr>\n",
              "      <th>0</th>\n",
              "      <td>1</td>\n",
              "      <td>puzzle</td>\n",
              "      <td>17.0</td>\n",
              "      <td>98</td>\n",
              "      <td>iOS</td>\n",
              "    </tr>\n",
              "    <tr>\n",
              "      <th>1</th>\n",
              "      <td>2</td>\n",
              "      <td>shooting</td>\n",
              "      <td>34.0</td>\n",
              "      <td>35</td>\n",
              "      <td>iOS</td>\n",
              "    </tr>\n",
              "    <tr>\n",
              "      <th>2</th>\n",
              "      <td>3</td>\n",
              "      <td>puzzle</td>\n",
              "      <td>23.0</td>\n",
              "      <td>267</td>\n",
              "      <td>Android</td>\n",
              "    </tr>\n",
              "    <tr>\n",
              "      <th>3</th>\n",
              "      <td>4</td>\n",
              "      <td>puzzle</td>\n",
              "      <td>NaN</td>\n",
              "      <td>45</td>\n",
              "      <td>iOS</td>\n",
              "    </tr>\n",
              "    <tr>\n",
              "      <th>4</th>\n",
              "      <td>5</td>\n",
              "      <td>shooting</td>\n",
              "      <td>14.0</td>\n",
              "      <td>90</td>\n",
              "      <td>iOS</td>\n",
              "    </tr>\n",
              "    <tr>\n",
              "      <th>5</th>\n",
              "      <td>6</td>\n",
              "      <td>racing</td>\n",
              "      <td>NaN</td>\n",
              "      <td>16</td>\n",
              "      <td>Android</td>\n",
              "    </tr>\n",
              "  </tbody>\n",
              "</table>\n",
              "</div>"
            ],
            "text/plain": [
              "   user_id game_genre   age  playing_time(days) device_type\n",
              "0        1     puzzle  17.0                  98         iOS\n",
              "1        2   shooting  34.0                  35         iOS\n",
              "2        3     puzzle  23.0                 267     Android\n",
              "3        4     puzzle   NaN                  45         iOS\n",
              "4        5   shooting  14.0                  90         iOS\n",
              "5        6     racing   NaN                  16     Android"
            ]
          },
          "metadata": {
            "tags": []
          },
          "execution_count": 3
        }
      ]
    },
    {
      "cell_type": "markdown",
      "metadata": {
        "id": "X6Vh-Ob2Zf6D",
        "colab_type": "text"
      },
      "source": [
        "欠陥値のある行を削除"
      ]
    },
    {
      "cell_type": "code",
      "metadata": {
        "id": "9IdmRKddZkhj",
        "colab_type": "code",
        "outputId": "da802cad-6a44-4486-b6d5-df2fd00e70e2",
        "colab": {
          "base_uri": "https://localhost:8080/",
          "height": 173
        }
      },
      "source": [
        "game_df = game_df.dropna().reset_index(drop=True)\n",
        "game_df"
      ],
      "execution_count": 4,
      "outputs": [
        {
          "output_type": "execute_result",
          "data": {
            "text/html": [
              "<div>\n",
              "<style scoped>\n",
              "    .dataframe tbody tr th:only-of-type {\n",
              "        vertical-align: middle;\n",
              "    }\n",
              "\n",
              "    .dataframe tbody tr th {\n",
              "        vertical-align: top;\n",
              "    }\n",
              "\n",
              "    .dataframe thead th {\n",
              "        text-align: right;\n",
              "    }\n",
              "</style>\n",
              "<table border=\"1\" class=\"dataframe\">\n",
              "  <thead>\n",
              "    <tr style=\"text-align: right;\">\n",
              "      <th></th>\n",
              "      <th>user_id</th>\n",
              "      <th>game_genre</th>\n",
              "      <th>age</th>\n",
              "      <th>playing_time(days)</th>\n",
              "      <th>device_type</th>\n",
              "    </tr>\n",
              "  </thead>\n",
              "  <tbody>\n",
              "    <tr>\n",
              "      <th>0</th>\n",
              "      <td>1</td>\n",
              "      <td>puzzle</td>\n",
              "      <td>17.0</td>\n",
              "      <td>98</td>\n",
              "      <td>iOS</td>\n",
              "    </tr>\n",
              "    <tr>\n",
              "      <th>1</th>\n",
              "      <td>2</td>\n",
              "      <td>shooting</td>\n",
              "      <td>34.0</td>\n",
              "      <td>35</td>\n",
              "      <td>iOS</td>\n",
              "    </tr>\n",
              "    <tr>\n",
              "      <th>2</th>\n",
              "      <td>3</td>\n",
              "      <td>puzzle</td>\n",
              "      <td>23.0</td>\n",
              "      <td>267</td>\n",
              "      <td>Android</td>\n",
              "    </tr>\n",
              "    <tr>\n",
              "      <th>3</th>\n",
              "      <td>5</td>\n",
              "      <td>shooting</td>\n",
              "      <td>14.0</td>\n",
              "      <td>90</td>\n",
              "      <td>iOS</td>\n",
              "    </tr>\n",
              "  </tbody>\n",
              "</table>\n",
              "</div>"
            ],
            "text/plain": [
              "   user_id game_genre   age  playing_time(days) device_type\n",
              "0        1     puzzle  17.0                  98         iOS\n",
              "1        2   shooting  34.0                  35         iOS\n",
              "2        3     puzzle  23.0                 267     Android\n",
              "3        5   shooting  14.0                  90         iOS"
            ]
          },
          "metadata": {
            "tags": []
          },
          "execution_count": 4
        }
      ]
    },
    {
      "cell_type": "markdown",
      "metadata": {
        "id": "uw7QrVod0IoV",
        "colab_type": "text"
      },
      "source": [
        "ファイルに書き込み"
      ]
    },
    {
      "cell_type": "code",
      "metadata": {
        "id": "HBeSXwoQ0KgI",
        "colab_type": "code",
        "colab": {}
      },
      "source": [
        "game_df.to_csv(\"game1_formatted.csv\")"
      ],
      "execution_count": 0,
      "outputs": []
    },
    {
      "cell_type": "markdown",
      "metadata": {
        "id": "kYpj_DrfGB-O",
        "colab_type": "text"
      },
      "source": [
        "## データ整形をする"
      ]
    },
    {
      "cell_type": "code",
      "metadata": {
        "id": "aIK0juGyGHEV",
        "colab_type": "code",
        "outputId": "6fa6afc5-cfd5-4fd3-f73c-665a408826f6",
        "colab": {
          "base_uri": "https://localhost:8080/",
          "height": 235
        }
      },
      "source": [
        "game2_df = pd.read_csv(\"game2.csv\")\n",
        "game2_df"
      ],
      "execution_count": 6,
      "outputs": [
        {
          "output_type": "execute_result",
          "data": {
            "text/html": [
              "<div>\n",
              "<style scoped>\n",
              "    .dataframe tbody tr th:only-of-type {\n",
              "        vertical-align: middle;\n",
              "    }\n",
              "\n",
              "    .dataframe tbody tr th {\n",
              "        vertical-align: top;\n",
              "    }\n",
              "\n",
              "    .dataframe thead th {\n",
              "        text-align: right;\n",
              "    }\n",
              "</style>\n",
              "<table border=\"1\" class=\"dataframe\">\n",
              "  <thead>\n",
              "    <tr style=\"text-align: right;\">\n",
              "      <th></th>\n",
              "      <th>user_id</th>\n",
              "      <th>game_genre</th>\n",
              "      <th>billing_amount(¥)</th>\n",
              "      <th>playing_time(days)</th>\n",
              "      <th>ranking</th>\n",
              "    </tr>\n",
              "  </thead>\n",
              "  <tbody>\n",
              "    <tr>\n",
              "      <th>0</th>\n",
              "      <td>1</td>\n",
              "      <td>puzzle</td>\n",
              "      <td>1000.0</td>\n",
              "      <td>98</td>\n",
              "      <td>153</td>\n",
              "    </tr>\n",
              "    <tr>\n",
              "      <th>1</th>\n",
              "      <td>2</td>\n",
              "      <td>shooting</td>\n",
              "      <td>NaN</td>\n",
              "      <td>35</td>\n",
              "      <td>978</td>\n",
              "    </tr>\n",
              "    <tr>\n",
              "      <th>2</th>\n",
              "      <td>3</td>\n",
              "      <td>puzzle</td>\n",
              "      <td>5000.0</td>\n",
              "      <td>267</td>\n",
              "      <td>8</td>\n",
              "    </tr>\n",
              "    <tr>\n",
              "      <th>3</th>\n",
              "      <td>4</td>\n",
              "      <td>puzzle</td>\n",
              "      <td>NaN</td>\n",
              "      <td>45</td>\n",
              "      <td>1032</td>\n",
              "    </tr>\n",
              "    <tr>\n",
              "      <th>4</th>\n",
              "      <td>5</td>\n",
              "      <td>shooting</td>\n",
              "      <td>2000.0</td>\n",
              "      <td>90</td>\n",
              "      <td>91</td>\n",
              "    </tr>\n",
              "    <tr>\n",
              "      <th>5</th>\n",
              "      <td>6</td>\n",
              "      <td>racing</td>\n",
              "      <td>300.0</td>\n",
              "      <td>16</td>\n",
              "      <td>875</td>\n",
              "    </tr>\n",
              "  </tbody>\n",
              "</table>\n",
              "</div>"
            ],
            "text/plain": [
              "   user_id game_genre  billing_amount(¥)  playing_time(days)  ranking\n",
              "0        1     puzzle             1000.0                  98      153\n",
              "1        2   shooting                NaN                  35      978\n",
              "2        3     puzzle             5000.0                 267        8\n",
              "3        4     puzzle                NaN                  45     1032\n",
              "4        5   shooting             2000.0                  90       91\n",
              "5        6     racing              300.0                  16      875"
            ]
          },
          "metadata": {
            "tags": []
          },
          "execution_count": 6
        }
      ]
    },
    {
      "cell_type": "markdown",
      "metadata": {
        "id": "yKvcam9RGUuV",
        "colab_type": "text"
      },
      "source": [
        "rankingカラムを削除する"
      ]
    },
    {
      "cell_type": "code",
      "metadata": {
        "id": "SPefYW9IGW7k",
        "colab_type": "code",
        "outputId": "b8834521-7d9d-4ab2-c2e6-edfe6e08789e",
        "colab": {
          "base_uri": "https://localhost:8080/",
          "height": 235
        }
      },
      "source": [
        "game2_df = game2_df.drop(\"ranking\", axis=1)\n",
        "game2_df"
      ],
      "execution_count": 7,
      "outputs": [
        {
          "output_type": "execute_result",
          "data": {
            "text/html": [
              "<div>\n",
              "<style scoped>\n",
              "    .dataframe tbody tr th:only-of-type {\n",
              "        vertical-align: middle;\n",
              "    }\n",
              "\n",
              "    .dataframe tbody tr th {\n",
              "        vertical-align: top;\n",
              "    }\n",
              "\n",
              "    .dataframe thead th {\n",
              "        text-align: right;\n",
              "    }\n",
              "</style>\n",
              "<table border=\"1\" class=\"dataframe\">\n",
              "  <thead>\n",
              "    <tr style=\"text-align: right;\">\n",
              "      <th></th>\n",
              "      <th>user_id</th>\n",
              "      <th>game_genre</th>\n",
              "      <th>billing_amount(¥)</th>\n",
              "      <th>playing_time(days)</th>\n",
              "    </tr>\n",
              "  </thead>\n",
              "  <tbody>\n",
              "    <tr>\n",
              "      <th>0</th>\n",
              "      <td>1</td>\n",
              "      <td>puzzle</td>\n",
              "      <td>1000.0</td>\n",
              "      <td>98</td>\n",
              "    </tr>\n",
              "    <tr>\n",
              "      <th>1</th>\n",
              "      <td>2</td>\n",
              "      <td>shooting</td>\n",
              "      <td>NaN</td>\n",
              "      <td>35</td>\n",
              "    </tr>\n",
              "    <tr>\n",
              "      <th>2</th>\n",
              "      <td>3</td>\n",
              "      <td>puzzle</td>\n",
              "      <td>5000.0</td>\n",
              "      <td>267</td>\n",
              "    </tr>\n",
              "    <tr>\n",
              "      <th>3</th>\n",
              "      <td>4</td>\n",
              "      <td>puzzle</td>\n",
              "      <td>NaN</td>\n",
              "      <td>45</td>\n",
              "    </tr>\n",
              "    <tr>\n",
              "      <th>4</th>\n",
              "      <td>5</td>\n",
              "      <td>shooting</td>\n",
              "      <td>2000.0</td>\n",
              "      <td>90</td>\n",
              "    </tr>\n",
              "    <tr>\n",
              "      <th>5</th>\n",
              "      <td>6</td>\n",
              "      <td>racing</td>\n",
              "      <td>300.0</td>\n",
              "      <td>16</td>\n",
              "    </tr>\n",
              "  </tbody>\n",
              "</table>\n",
              "</div>"
            ],
            "text/plain": [
              "   user_id game_genre  billing_amount(¥)  playing_time(days)\n",
              "0        1     puzzle             1000.0                  98\n",
              "1        2   shooting                NaN                  35\n",
              "2        3     puzzle             5000.0                 267\n",
              "3        4     puzzle                NaN                  45\n",
              "4        5   shooting             2000.0                  90\n",
              "5        6     racing              300.0                  16"
            ]
          },
          "metadata": {
            "tags": []
          },
          "execution_count": 7
        }
      ]
    },
    {
      "cell_type": "markdown",
      "metadata": {
        "id": "LN_rYfF2GpDI",
        "colab_type": "text"
      },
      "source": [
        "欠損値を0で埋める"
      ]
    },
    {
      "cell_type": "code",
      "metadata": {
        "id": "CvTKZhefGvCU",
        "colab_type": "code",
        "outputId": "ac4b0022-0197-4e75-d5cb-097fb7dcba54",
        "colab": {
          "base_uri": "https://localhost:8080/",
          "height": 235
        }
      },
      "source": [
        "game2_df = game2_df.fillna(0)\n",
        "game2_df"
      ],
      "execution_count": 8,
      "outputs": [
        {
          "output_type": "execute_result",
          "data": {
            "text/html": [
              "<div>\n",
              "<style scoped>\n",
              "    .dataframe tbody tr th:only-of-type {\n",
              "        vertical-align: middle;\n",
              "    }\n",
              "\n",
              "    .dataframe tbody tr th {\n",
              "        vertical-align: top;\n",
              "    }\n",
              "\n",
              "    .dataframe thead th {\n",
              "        text-align: right;\n",
              "    }\n",
              "</style>\n",
              "<table border=\"1\" class=\"dataframe\">\n",
              "  <thead>\n",
              "    <tr style=\"text-align: right;\">\n",
              "      <th></th>\n",
              "      <th>user_id</th>\n",
              "      <th>game_genre</th>\n",
              "      <th>billing_amount(¥)</th>\n",
              "      <th>playing_time(days)</th>\n",
              "    </tr>\n",
              "  </thead>\n",
              "  <tbody>\n",
              "    <tr>\n",
              "      <th>0</th>\n",
              "      <td>1</td>\n",
              "      <td>puzzle</td>\n",
              "      <td>1000.0</td>\n",
              "      <td>98</td>\n",
              "    </tr>\n",
              "    <tr>\n",
              "      <th>1</th>\n",
              "      <td>2</td>\n",
              "      <td>shooting</td>\n",
              "      <td>0.0</td>\n",
              "      <td>35</td>\n",
              "    </tr>\n",
              "    <tr>\n",
              "      <th>2</th>\n",
              "      <td>3</td>\n",
              "      <td>puzzle</td>\n",
              "      <td>5000.0</td>\n",
              "      <td>267</td>\n",
              "    </tr>\n",
              "    <tr>\n",
              "      <th>3</th>\n",
              "      <td>4</td>\n",
              "      <td>puzzle</td>\n",
              "      <td>0.0</td>\n",
              "      <td>45</td>\n",
              "    </tr>\n",
              "    <tr>\n",
              "      <th>4</th>\n",
              "      <td>5</td>\n",
              "      <td>shooting</td>\n",
              "      <td>2000.0</td>\n",
              "      <td>90</td>\n",
              "    </tr>\n",
              "    <tr>\n",
              "      <th>5</th>\n",
              "      <td>6</td>\n",
              "      <td>racing</td>\n",
              "      <td>300.0</td>\n",
              "      <td>16</td>\n",
              "    </tr>\n",
              "  </tbody>\n",
              "</table>\n",
              "</div>"
            ],
            "text/plain": [
              "   user_id game_genre  billing_amount(¥)  playing_time(days)\n",
              "0        1     puzzle             1000.0                  98\n",
              "1        2   shooting                0.0                  35\n",
              "2        3     puzzle             5000.0                 267\n",
              "3        4     puzzle                0.0                  45\n",
              "4        5   shooting             2000.0                  90\n",
              "5        6     racing              300.0                  16"
            ]
          },
          "metadata": {
            "tags": []
          },
          "execution_count": 8
        }
      ]
    },
    {
      "cell_type": "markdown",
      "metadata": {
        "id": "ghPGlRbXG3MC",
        "colab_type": "text"
      },
      "source": [
        "billing_amount(\\)カラムの値が降順になるようにソート"
      ]
    },
    {
      "cell_type": "code",
      "metadata": {
        "id": "mThifEcuG-YU",
        "colab_type": "code",
        "outputId": "ae4a5d5b-2b96-497e-c9d0-aca1215b8455",
        "colab": {
          "base_uri": "https://localhost:8080/",
          "height": 235
        }
      },
      "source": [
        "game2_df = game2_df.sort_values(\"billing_amount(¥)\", ascending=False)\n",
        "game2_df"
      ],
      "execution_count": 9,
      "outputs": [
        {
          "output_type": "execute_result",
          "data": {
            "text/html": [
              "<div>\n",
              "<style scoped>\n",
              "    .dataframe tbody tr th:only-of-type {\n",
              "        vertical-align: middle;\n",
              "    }\n",
              "\n",
              "    .dataframe tbody tr th {\n",
              "        vertical-align: top;\n",
              "    }\n",
              "\n",
              "    .dataframe thead th {\n",
              "        text-align: right;\n",
              "    }\n",
              "</style>\n",
              "<table border=\"1\" class=\"dataframe\">\n",
              "  <thead>\n",
              "    <tr style=\"text-align: right;\">\n",
              "      <th></th>\n",
              "      <th>user_id</th>\n",
              "      <th>game_genre</th>\n",
              "      <th>billing_amount(¥)</th>\n",
              "      <th>playing_time(days)</th>\n",
              "    </tr>\n",
              "  </thead>\n",
              "  <tbody>\n",
              "    <tr>\n",
              "      <th>2</th>\n",
              "      <td>3</td>\n",
              "      <td>puzzle</td>\n",
              "      <td>5000.0</td>\n",
              "      <td>267</td>\n",
              "    </tr>\n",
              "    <tr>\n",
              "      <th>4</th>\n",
              "      <td>5</td>\n",
              "      <td>shooting</td>\n",
              "      <td>2000.0</td>\n",
              "      <td>90</td>\n",
              "    </tr>\n",
              "    <tr>\n",
              "      <th>0</th>\n",
              "      <td>1</td>\n",
              "      <td>puzzle</td>\n",
              "      <td>1000.0</td>\n",
              "      <td>98</td>\n",
              "    </tr>\n",
              "    <tr>\n",
              "      <th>5</th>\n",
              "      <td>6</td>\n",
              "      <td>racing</td>\n",
              "      <td>300.0</td>\n",
              "      <td>16</td>\n",
              "    </tr>\n",
              "    <tr>\n",
              "      <th>1</th>\n",
              "      <td>2</td>\n",
              "      <td>shooting</td>\n",
              "      <td>0.0</td>\n",
              "      <td>35</td>\n",
              "    </tr>\n",
              "    <tr>\n",
              "      <th>3</th>\n",
              "      <td>4</td>\n",
              "      <td>puzzle</td>\n",
              "      <td>0.0</td>\n",
              "      <td>45</td>\n",
              "    </tr>\n",
              "  </tbody>\n",
              "</table>\n",
              "</div>"
            ],
            "text/plain": [
              "   user_id game_genre  billing_amount(¥)  playing_time(days)\n",
              "2        3     puzzle             5000.0                 267\n",
              "4        5   shooting             2000.0                  90\n",
              "0        1     puzzle             1000.0                  98\n",
              "5        6     racing              300.0                  16\n",
              "1        2   shooting                0.0                  35\n",
              "3        4     puzzle                0.0                  45"
            ]
          },
          "metadata": {
            "tags": []
          },
          "execution_count": 9
        }
      ]
    },
    {
      "cell_type": "markdown",
      "metadata": {
        "id": "5XypuHj6HapP",
        "colab_type": "text"
      },
      "source": [
        "CSVファイルに書き出し"
      ]
    },
    {
      "cell_type": "code",
      "metadata": {
        "id": "mO-MIgbAHc_j",
        "colab_type": "code",
        "colab": {}
      },
      "source": [
        "game2_df.to_csv(\"game2_formatted.csv\")"
      ],
      "execution_count": 0,
      "outputs": []
    }
  ]
}